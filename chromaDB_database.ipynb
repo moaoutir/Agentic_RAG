{
 "cells": [
  {
   "cell_type": "code",
   "execution_count": 1,
   "metadata": {
    "colab": {
     "base_uri": "https://localhost:8080/"
    },
    "executionInfo": {
     "elapsed": 68642,
     "status": "ok",
     "timestamp": 1734256826060,
     "user": {
      "displayName": "Mouad Aoutir",
      "userId": "03235698244910409682"
     },
     "user_tz": -60
    },
    "id": "IkKivY0XUcIs",
    "outputId": "71d30236-9682-4e4d-ba8e-7c7d71782fb5"
   },
   "outputs": [
    {
     "name": "stderr",
     "output_type": "stream",
     "text": [
      "c:\\Users\\vPro\\Projects\\AI agent\\env\\Lib\\site-packages\\tqdm\\auto.py:21: TqdmWarning: IProgress not found. Please update jupyter and ipywidgets. See https://ipywidgets.readthedocs.io/en/stable/user_install.html\n",
      "  from .autonotebook import tqdm as notebook_tqdm\n"
     ]
    }
   ],
   "source": [
    "import chromadb\n",
    "from chromadb.config import Settings\n",
    "import os\n",
    "import pandas as pd\n",
    "import numpy as np\n",
    "import json\n",
    "import time\n",
    "from langchain_groq import ChatGroq\n",
    "from langchain_community.graphs import Neo4jGraph\n",
    "from langchain_community.vectorstores import Neo4jVector\n",
    "from langchain_community.embeddings import HuggingFaceInferenceAPIEmbeddings\n",
    "from langchain_core.prompts import PromptTemplate, ChatPromptTemplate\n",
    "from langchain.chains.combine_documents import create_stuff_documents_chain\n",
    "from langchain.chains import create_retrieval_chain\n",
    "from IPython.display import display, Markdown\n",
    "from typing import Annotated\n",
    "from typing_extensions import TypedDict\n",
    "from langchain_community.utilities import WikipediaAPIWrapper\n",
    "from langchain_community.tools import WikipediaQueryRun\n",
    "from IPython.display import Markdown, JSON\n",
    "from langchain_core.output_parsers import JsonOutputParser\n",
    "from langchain_core.output_parsers import StrOutputParser\n",
    "from langchain.schema import Document\n",
    "from langgraph.graph import END, StateGraph\n",
    "from langchain_chroma import Chroma\n",
    "from sentence_transformers import SentenceTransformer\n",
    "from dotenv import load_dotenv"
   ]
  },
  {
   "cell_type": "code",
   "execution_count": 2,
   "metadata": {
    "id": "J7SIZvuQJGAg"
   },
   "outputs": [],
   "source": [
    "load_dotenv()\n",
    "embeddings = HuggingFaceInferenceAPIEmbeddings(\n",
    "    api_key= os.environ[\"HUGGINGFACE_API_KEY\"], model_name=\"BAAI/bge-small-en-v1.5\"\n",
    ")"
   ]
  },
  {
   "cell_type": "code",
   "execution_count": null,
   "metadata": {},
   "outputs": [],
   "source": [
    "import kagglehub\n",
    "\n",
    "# Download latest version\n",
    "path = kagglehub.dataset_download(\"irkaal/foodcom-recipes-and-reviews\", force_download=True)\n",
    "\n",
    "print(\"Path to dataset files:\", path)"
   ]
  },
  {
   "cell_type": "code",
   "execution_count": null,
   "metadata": {
    "id": "FQD05NWlavHK"
   },
   "outputs": [],
   "source": [
    "df = pd.read_csv(path+'/recipes.csv')"
   ]
  },
  {
   "cell_type": "code",
   "execution_count": null,
   "metadata": {
    "id": "hkY1SofPayE2"
   },
   "outputs": [],
   "source": [
    "categories = [\n",
    "    'Frozen Desserts', 'Chicken Breast', 'Beverages', 'Soy/Tofu',\n",
    "    'Vegetable', 'Pie', 'Chicken', 'Dessert', 'Sauces', 'Stew',\n",
    "    'Black Beans', '< 60 Mins', 'Lactose Free', 'Weeknight',\n",
    "    'Yeast Breads', 'Whole Chicken', 'High Protein', 'Cheesecake',\n",
    "    'Free Of...', 'High In...', 'Breakfast', 'Breads', 'Bar Cookie', 'Asian', 'Potato', 'Cheese', 'Meat', 'Very Low Carbs',\n",
    "    'Spaghetti', 'Lunch/Snacks', 'Beans', 'Quick Breads',\n",
    "    'Poultry', 'Healthy', 'Rice', 'Apple', 'Broil/Grill', 'Tex Mex',\n",
    "    'German', 'Fruit', 'European', 'Smoothies', 'Greek', 'Corn',\n",
    "    'Lentil', 'Spanish', 'Tuna', 'Citrus', 'Peppers', 'Salad Dressings',\n",
    "    'Mexican', '< 15 Mins', 'One Dish Meal', 'Spicy', 'Thai', 'Cajun',\n",
    "    'Oven', 'Microwave', 'Vegan', 'For Large Groups', 'Chinese', 'Grains',\n",
    "    'Yam/Sweet Potato', 'Winter', 'African', 'Pasta Shells', 'Stocks',\n",
    "    'Meatballs', 'Spring', 'Wild Game', 'Collard Greens',\n",
    "    'Tilapia', 'Moroccan', 'Pressure Cooker', 'Korean', 'Spinach',\n",
    "    'Kosher', 'Australian', 'Peanut Butter', 'Sweet',\n",
    "    'Nuts', 'Filipino', 'Brunch', 'South American',\n",
    "    'Beginner Cook', 'Egg Free', 'Dairy Free Foods',\n",
    "    'Avocado', 'Pakistani', 'Ice Cream', 'Snacks Sweet', 'Main Dish Casseroles',\n",
    "    'Pot Roast', 'Soups Crock Pot', 'Indian', 'Breakfast Casseroles',\n",
    "    'Macaroni And Cheese', 'Mashed Potatoes', 'Desserts Fruit',\n",
    "    'Pumpkin', 'Baking', 'Chicken Thigh & Leg',\n",
    "    'Broccoli Soup', 'Apple Pie', 'Artichoke', 'From Scratch', 'Vegetable',\n",
    "    'Lunch/Snacks', 'Potluck', 'Camping', 'Chicken Crock Pot', 'Peanut Butter Pie', 'Ice Cream',\n",
    "    'Hawaiian', 'Vegan', 'Gluten Free Appetizers', 'Chocolate Chip Cookies',\n",
    "    'Danish', 'Creole', 'Cajun', 'Colombian', 'Italian', 'Roast',\n",
    "    'Breakfast Eggs', 'Soups Crock Pot', 'Fish Salmon', 'Snacks Sweet',\n",
    "    'Bread Pudding', 'Inexpensive', 'Bread Machine', 'Mexican',\n",
    "    'Pot Pie', 'Seafood', 'Oysters', 'Nigerian', 'Chard', 'Avocado',\n",
    "    'Margarita', 'Hunan', 'Peruvian', 'Camping',\n",
    "    'Turkey Gravy', 'Freezer', 'High Fiber', 'Healthy',\n",
    "    'Kid Friendly','Moroccan'\n",
    "]\n",
    "\n",
    "unique_categories = list(set(categories))"
   ]
  },
  {
   "cell_type": "code",
   "execution_count": 4,
   "metadata": {
    "executionInfo": {
     "elapsed": 15,
     "status": "ok",
     "timestamp": 1734256826062,
     "user": {
      "displayName": "Mouad Aoutir",
      "userId": "03235698244910409682"
     },
     "user_tz": -60
    },
    "id": "hMNCA7a307GU"
   },
   "outputs": [],
   "source": [
    "from chromadb import Documents, EmbeddingFunction, Embeddings\n"
   ]
  },
  {
   "cell_type": "code",
   "execution_count": 5,
   "metadata": {
    "id": "seViwbxJrYae"
   },
   "outputs": [],
   "source": [
    "class MyEmbeddingFunction(EmbeddingFunction):\n",
    "    def __init__(self, model: SentenceTransformer):\n",
    "        self.model = model\n",
    "    def embed_documents(self, input: Documents) -> Embeddings:\n",
    "        sentences = input\n",
    "\n",
    "        embeddings = self.model.encode(sentences).tolist()\n",
    "\n",
    "        return embeddings\n",
    "\n",
    "    def embed_query(self, text: str) -> list:\n",
    "        # Get embedding for a single query\n",
    "        return self.model.encode(text, convert_to_tensor=True).tolist()\n"
   ]
  },
  {
   "cell_type": "code",
   "execution_count": null,
   "metadata": {
    "colab": {
     "base_uri": "https://localhost:8080/"
    },
    "executionInfo": {
     "elapsed": 4499,
     "status": "ok",
     "timestamp": 1733655372767,
     "user": {
      "displayName": "Mouad Aoutir",
      "userId": "03235698244910409682"
     },
     "user_tz": -60
    },
    "id": "_X3AOYhul1Oq",
    "outputId": "641cc716-aa24-4e2a-bbce-c0045e173ade"
   },
   "outputs": [
    {
     "name": "stderr",
     "output_type": "stream",
     "text": [
      "/usr/local/lib/python3.10/dist-packages/huggingface_hub/utils/_auth.py:94: UserWarning: \n",
      "The secret `HF_TOKEN` does not exist in your Colab secrets.\n",
      "To authenticate with the Hugging Face Hub, create a token in your settings tab (https://huggingface.co/settings/tokens), set it as secret in your Google Colab and restart your session.\n",
      "You will be able to reuse this secret in all of your notebooks.\n",
      "Please note that authentication is recommended but still optional to access public models or datasets.\n",
      "  warnings.warn(\n"
     ]
    }
   ],
   "source": [
    "model = SentenceTransformer('BAAI/bge-small-en-v1.5')\n",
    "custom_embeddings=MyEmbeddingFunction(model)\n",
    "vector_store = Chroma(\n",
    "    collection_name=\"recipes\",\n",
    "    embedding_function=custom_embeddings,\n",
    "    persist_directory=\"./database/\",\n",
    "    )"
   ]
  },
  {
   "cell_type": "code",
   "execution_count": null,
   "metadata": {
    "id": "-5UGw3Lpq2xo"
   },
   "outputs": [],
   "source": [
    "docs = []\n",
    "ids_recipes = []\n",
    "for i, row in df.iloc[:100000].iterrows():\n",
    "  if row['RecipeCategory'] in unique_categories and row['Name'] is not None and row['RecipeId'] is not None:\n",
    "    params={\n",
    "            \"description\": row['Description'],\n",
    "            \"IngredientQuantities\": row['RecipeIngredientQuantities'],\n",
    "            \"IngredientParts\": row['RecipeIngredientParts'],\n",
    "            \"preparation_method\": row['RecipeInstructions'],\n",
    "            \"Calories\": row['Calories'],\n",
    "            \"FatContent\": row['FatContent'],\n",
    "            \"SaturatedFatContent\": row['SaturatedFatContent'],\n",
    "            \"CholesterolContent\": row['CholesterolContent'],\n",
    "            \"SodiumContent\": row['SodiumContent'],\n",
    "            \"CarbohydrateContent\": row['CarbohydrateContent'],\n",
    "            \"FiberContent\": row['FiberContent'],\n",
    "            \"SugarContent\": row['SugarContent'],\n",
    "            \"ProteinContent\": row['ProteinContent'],\n",
    "            \"RecipeCategory\": row['RecipeCategory']\n",
    "        }\n",
    "\n",
    "    docs.append(Document(page_content=row['Name'], metadata=params))\n",
    "    ids_recipes.append(str(row['RecipeId']))"
   ]
  },
  {
   "cell_type": "markdown",
   "metadata": {
    "id": "TRsX22NK_6yj"
   },
   "source": [
    "The yield keyword is used to return a list of values from a function.\n",
    "\n",
    "Unlike the return keyword which stops further execution of the function, the yield keyword continues to the end of the function"
   ]
  },
  {
   "cell_type": "code",
   "execution_count": null,
   "metadata": {
    "id": "dYbK7H32_Q0X"
   },
   "outputs": [],
   "source": [
    "MAX_BATCH_SIZE = 40000\n",
    "\n",
    "# Split the docs and ids into smaller batches\n",
    "def batch_documents(docs, ids, max_batch_size):\n",
    "    for i in range(41666, len(docs), max_batch_size):\n",
    "        yield docs[i:i + max_batch_size], ids[i:i + max_batch_size]\n",
    "\n",
    "for batch_docs, batch_ids in batch_documents(docs, ids_recipes, MAX_BATCH_SIZE):\n",
    "    vector_store.add_documents(documents=batch_docs, ids=batch_ids)\n"
   ]
  },
  {
   "cell_type": "markdown",
   "metadata": {
    "id": "zgXU7S9hxEHt"
   },
   "source": [
    "# Test"
   ]
  },
  {
   "cell_type": "code",
   "execution_count": 6,
   "metadata": {
    "executionInfo": {
     "elapsed": 309,
     "status": "ok",
     "timestamp": 1734257174084,
     "user": {
      "displayName": "Mouad Aoutir",
      "userId": "03235698244910409682"
     },
     "user_tz": -60
    },
    "id": "D9ii6aizx-9w"
   },
   "outputs": [],
   "source": [
    "class MyEmbeddingFunction(EmbeddingFunction):\n",
    "    def __init__(self, model: SentenceTransformer):\n",
    "        self.model = model\n",
    "\n",
    "    def embed_query(self, text: str) -> list:\n",
    "        # Get embedding for a single query\n",
    "        return self.model.encode(text, convert_to_tensor=True).tolist()"
   ]
  },
  {
   "cell_type": "code",
   "execution_count": 7,
   "metadata": {
    "executionInfo": {
     "elapsed": 3868,
     "status": "ok",
     "timestamp": 1734257216498,
     "user": {
      "displayName": "Mouad Aoutir",
      "userId": "03235698244910409682"
     },
     "user_tz": -60
    },
    "id": "Zy6Mr0-Ghjmk"
   },
   "outputs": [],
   "source": [
    "model = SentenceTransformer('BAAI/bge-small-en-v1.5')\n",
    "custom_embeddings=MyEmbeddingFunction(model)\n",
    "\n",
    "vector_store = Chroma(\n",
    "    collection_name=\"recipes\",\n",
    "    embedding_function=custom_embeddings,\n",
    "    persist_directory=\"./databases/\",\n",
    "    )"
   ]
  },
  {
   "cell_type": "code",
   "execution_count": 17,
   "metadata": {
    "executionInfo": {
     "elapsed": 276,
     "status": "ok",
     "timestamp": 1734257756559,
     "user": {
      "displayName": "Mouad Aoutir",
      "userId": "03235698244910409682"
     },
     "user_tz": -60
    },
    "id": "xaBJ59YUkqsP"
   },
   "outputs": [],
   "source": [
    "retriever = vector_store.as_retriever(search_kwargs={\"k\": 3})\n",
    "result = retriever.invoke(\"Pizza Bread\")"
   ]
  },
  {
   "cell_type": "code",
   "execution_count": 18,
   "metadata": {
    "colab": {
     "base_uri": "https://localhost:8080/"
    },
    "executionInfo": {
     "elapsed": 259,
     "status": "ok",
     "timestamp": 1734257757643,
     "user": {
      "displayName": "Mouad Aoutir",
      "userId": "03235698244910409682"
     },
     "user_tz": -60
    },
    "id": "wLzZs4IDy09k",
    "outputId": "8109ba6f-9fd7-48c0-f328-6005339dd978"
   },
   "outputs": [
    {
     "data": {
      "text/plain": [
       "[Document(metadata={'Calories': 970.3, 'CarbohydrateContent': 163.2, 'CholesterolContent': 46.8, 'FatContent': 18.0, 'FiberContent': 9.2, 'IngredientParts': 'c(\"warm water\", \"granulated sugar\", \"kosher salt\", \"unbleached all-purpose flour\", \"unbleached flour\", \"flour\", \"olive oil\", \"mozzarella cheese\", \"fresh oregano\", \"fresh basil\")', 'IngredientQuantities': 'c(\"2 1/4\", \"1\", \"2\", \"14\", \"3\", \"3\", NA, NA, \"2\", \"2 -3\", \"2 -4\")', 'ProteinContent': 34.9, 'RecipeCategory': 'Breads', 'SaturatedFatContent': 8.6, 'SodiumContent': 2243.4, 'SugarContent': 12.5, 'description': 'This originally came from the Pleasure Bar and Restaurant in Pittsburgh, PA, perhaps as early as the 1960\\'s but definately during the 1970\\'s. Located in the heart of the Bloomfield section of Pittsburgh, this Italian restaurant and bar was known (at least to me) as a local hangout for the Pittsburgh Penguins. But in the years I frequented it as a student at Pitt as well as hockey fan, I never saw any of the players there but did see a lot of photos of guys like former Penguin goalie and current GM of the Carolina Hurricanes Jimmy Rutherford, Bob \"Battleship\" Kelly, former goalie Greg Millen, Pierre Larouche (\"Lucky\" Pierre was traded to Montreal where he played for the Stanley Cup winning Canadiens), Dave Schultz (ended his career as a Penguin), Coach Red Kelly, Jean Pronovost, Syl Apps, Rick Kehoe, and so on. Years later this very same pizza bread was marketed nationwide by Stouffers, but never close to the same as the original. At any rate, I thought I\\'d clear the air a bit and give credit where it\\'s due. You can make this either by purchasing an Italian loaf of bread or make your own bread (recipe below).', 'preparation_method': 'c(\"Proof yeast in 1/4 cup warm water with a pinch of sugar about 10 minutes.\", \"Add to a stand mixer with a paddle attachment (which I prefer over a dough hook).\", \"Add 2 cups of warm water and mix at lowest speed.\", \"Alternate AP flour with bread flour, one cup at a time and mix.\", \"Increase mixer speed as needed.\", \"After adding 4 cups total flour (AP+bread), add the salt.\", \"Add the rest of the flour and mix.\", \"Dough should be pretty sticky.\", \"Stop the mixer and pull up paddle.\", \"If dough develops a nice\\\\\"window\\\\\" over the paddle, then it\\'s ready.\", \\n\"If not, add flour, 1 tablespoon at a time and mix.\", \"Stop mixer and pull paddle attachment, checking again for the\\\\\"window\\\\\".\", \"Once you get a window, stop mixing.\", \"If you overmix, let dough rest a bit.\", \"Onto a floured board, dump this sticky dough and shape into a ball.\", \"Place dough ball into a well-oiled large pan.\", \"You can use a small amount of oil on the top of the loaf and place into a cold oven.\", \"I place a small loafpan of boiling water into the cold oven, near the loaf.\", \"This creates a humid atmosphere for the bread- a steam box.\", \\n\"Keep the door closed until the ball doubles in size, about 1 hour.\", \"After doubling, remove dough from pan and cut into 2 balls.\", \"Place each on a good sized baking pan and shape each ball into an Italian loaf.\", \"Heat oven to 425 F, keeping the water-filled loafpan in the oven.\", \"Allow shaped loaves to rest about 30-45 minutes.\", \"Bake about 20-25 minutes until golden brown.\", \"Remove from oven.\", \"Spread (not dump) your favorite miranara sauce over each half-loaf of bread.\", \"Cover with splotches of mozzarella cheese slices.\", \\n\"Add fresh oregano and/or basil and bake until cheese begins to brown.\", \"This is a super snack for picky kids.\")'}, page_content='Pizza Bread'),\n",
       " Document(metadata={'Calories': 519.5, 'CarbohydrateContent': 50.0, 'CholesterolContent': 81.3, 'FatContent': 23.2, 'FiberContent': 4.6, 'IngredientParts': 'c(\"lean ground beef\", \"garlic\", \"red pepper flakes\", \"Italian-style stewed tomatoes\", \"sweet whole kernel corn\", \"cheddar cheese\", \"black olives\", \"green onion\")', 'IngredientQuantities': 'c(\"1/2\", \"1\", \"1/8\", \"1\", \"1\", \"1\", \"1 1/2\", \"1/4\", \"1/4\")', 'ProteinContent': 29.8, 'RecipeCategory': '< 60 Mins', 'SaturatedFatContent': 11.8, 'SodiumContent': 1109.4, 'SugarContent': 7.8, 'description': 'Make and share this Pizza Bread recipe from Food.com.', 'preparation_method': 'c(\"In skillet, brown meat with garlic and red pepper.\", \"Salt and pepper to taste; drain.\", \"Add tomatoes; cook, uncovered, over medium-high heat about 6 minutes or until thickened.\", \"Stir in corn.\", \"Spread over bread; top with cheese, olives and green onions.\", \"Bake for 8-10 minutes at 400 degrees.\")'}, page_content='Pizza Bread'),\n",
       " Document(metadata={'Calories': 271.4, 'CarbohydrateContent': 48.3, 'CholesterolContent': 0.0, 'FatContent': 5.2, 'FiberContent': 2.0, 'IngredientParts': 'c(\"water\", \"olive oil\", \"all-purpose flour\", \"garlic powder\", \"salt\", \"active dry yeast\")', 'IngredientQuantities': 'c(\"1\", \"2\", \"3\", \"1/2\", \"1/2\", \"1 1/2\")', 'ProteinContent': 6.9, 'RecipeCategory': 'Yeast Breads', 'SaturatedFatContent': 0.7, 'SodiumContent': 197.0, 'SugarContent': 0.2, 'description': 'My family loves homemade pizza and using my bread machine to make the dough really takes the work out of it. This recipe make a soft thick crust. Sometimes I sprinkle the crust with garlic salt to add even more flavor. Prep time does not include cycle time, as bread machines vary.', 'preparation_method': 'c(\"Layer in bread pan according to manufacturer\\'s recommendations.\", \"Select\\'dough\\' setting.\", \"When dough cycle is done, pat dough into greased 12x15-inch jelly roll pan.\", \"Prick dough with fork.\", \"Bake in preheated 400 degree oven for 7 minutes.\", \"Remove from oven and add desired toppings.\", \"Baste crust edges with butter.\", \"Return to oven for 15-20 minutes or until cheese is melted and crust is done.\")'}, page_content='Pizza Crust (Bread Machine)')]"
      ]
     },
     "execution_count": 18,
     "metadata": {},
     "output_type": "execute_result"
    }
   ],
   "source": [
    "result"
   ]
  },
  {
   "cell_type": "code",
   "execution_count": 19,
   "metadata": {},
   "outputs": [
    {
     "data": {
      "text/plain": [
       "{'Calories': 519.5,\n",
       " 'CarbohydrateContent': 50.0,\n",
       " 'CholesterolContent': 81.3,\n",
       " 'FatContent': 23.2,\n",
       " 'FiberContent': 4.6,\n",
       " 'IngredientParts': 'c(\"lean ground beef\", \"garlic\", \"red pepper flakes\", \"Italian-style stewed tomatoes\", \"sweet whole kernel corn\", \"cheddar cheese\", \"black olives\", \"green onion\")',\n",
       " 'IngredientQuantities': 'c(\"1/2\", \"1\", \"1/8\", \"1\", \"1\", \"1\", \"1 1/2\", \"1/4\", \"1/4\")',\n",
       " 'ProteinContent': 29.8,\n",
       " 'RecipeCategory': '< 60 Mins',\n",
       " 'SaturatedFatContent': 11.8,\n",
       " 'SodiumContent': 1109.4,\n",
       " 'SugarContent': 7.8,\n",
       " 'description': 'Make and share this Pizza Bread recipe from Food.com.',\n",
       " 'preparation_method': 'c(\"In skillet, brown meat with garlic and red pepper.\", \"Salt and pepper to taste; drain.\", \"Add tomatoes; cook, uncovered, over medium-high heat about 6 minutes or until thickened.\", \"Stir in corn.\", \"Spread over bread; top with cheese, olives and green onions.\", \"Bake for 8-10 minutes at 400 degrees.\")'}"
      ]
     },
     "execution_count": 19,
     "metadata": {},
     "output_type": "execute_result"
    }
   ],
   "source": [
    "result[1].metadata"
   ]
  },
  {
   "cell_type": "code",
   "execution_count": 20,
   "metadata": {
    "colab": {
     "base_uri": "https://localhost:8080/"
    },
    "executionInfo": {
     "elapsed": 289,
     "status": "ok",
     "timestamp": 1734257382596,
     "user": {
      "displayName": "Mouad Aoutir",
      "userId": "03235698244910409682"
     },
     "user_tz": -60
    },
    "id": "l6EpXneky3wa",
    "outputId": "cfabc9e9-0262-40ea-b7d3-40c10233f0ac"
   },
   "outputs": [
    {
     "data": {
      "text/plain": [
       "{'Calories': 970.3,\n",
       " 'CarbohydrateContent': 163.2,\n",
       " 'CholesterolContent': 46.8,\n",
       " 'FatContent': 18.0,\n",
       " 'FiberContent': 9.2,\n",
       " 'IngredientParts': 'c(\"warm water\", \"granulated sugar\", \"kosher salt\", \"unbleached all-purpose flour\", \"unbleached flour\", \"flour\", \"olive oil\", \"mozzarella cheese\", \"fresh oregano\", \"fresh basil\")',\n",
       " 'IngredientQuantities': 'c(\"2 1/4\", \"1\", \"2\", \"14\", \"3\", \"3\", NA, NA, \"2\", \"2 -3\", \"2 -4\")',\n",
       " 'ProteinContent': 34.9,\n",
       " 'RecipeCategory': 'Breads',\n",
       " 'SaturatedFatContent': 8.6,\n",
       " 'SodiumContent': 2243.4,\n",
       " 'SugarContent': 12.5,\n",
       " 'description': 'This originally came from the Pleasure Bar and Restaurant in Pittsburgh, PA, perhaps as early as the 1960\\'s but definately during the 1970\\'s. Located in the heart of the Bloomfield section of Pittsburgh, this Italian restaurant and bar was known (at least to me) as a local hangout for the Pittsburgh Penguins. But in the years I frequented it as a student at Pitt as well as hockey fan, I never saw any of the players there but did see a lot of photos of guys like former Penguin goalie and current GM of the Carolina Hurricanes Jimmy Rutherford, Bob \"Battleship\" Kelly, former goalie Greg Millen, Pierre Larouche (\"Lucky\" Pierre was traded to Montreal where he played for the Stanley Cup winning Canadiens), Dave Schultz (ended his career as a Penguin), Coach Red Kelly, Jean Pronovost, Syl Apps, Rick Kehoe, and so on. Years later this very same pizza bread was marketed nationwide by Stouffers, but never close to the same as the original. At any rate, I thought I\\'d clear the air a bit and give credit where it\\'s due. You can make this either by purchasing an Italian loaf of bread or make your own bread (recipe below).',\n",
       " 'preparation_method': 'c(\"Proof yeast in 1/4 cup warm water with a pinch of sugar about 10 minutes.\", \"Add to a stand mixer with a paddle attachment (which I prefer over a dough hook).\", \"Add 2 cups of warm water and mix at lowest speed.\", \"Alternate AP flour with bread flour, one cup at a time and mix.\", \"Increase mixer speed as needed.\", \"After adding 4 cups total flour (AP+bread), add the salt.\", \"Add the rest of the flour and mix.\", \"Dough should be pretty sticky.\", \"Stop the mixer and pull up paddle.\", \"If dough develops a nice\\\\\"window\\\\\" over the paddle, then it\\'s ready.\", \\n\"If not, add flour, 1 tablespoon at a time and mix.\", \"Stop mixer and pull paddle attachment, checking again for the\\\\\"window\\\\\".\", \"Once you get a window, stop mixing.\", \"If you overmix, let dough rest a bit.\", \"Onto a floured board, dump this sticky dough and shape into a ball.\", \"Place dough ball into a well-oiled large pan.\", \"You can use a small amount of oil on the top of the loaf and place into a cold oven.\", \"I place a small loafpan of boiling water into the cold oven, near the loaf.\", \"This creates a humid atmosphere for the bread- a steam box.\", \\n\"Keep the door closed until the ball doubles in size, about 1 hour.\", \"After doubling, remove dough from pan and cut into 2 balls.\", \"Place each on a good sized baking pan and shape each ball into an Italian loaf.\", \"Heat oven to 425 F, keeping the water-filled loafpan in the oven.\", \"Allow shaped loaves to rest about 30-45 minutes.\", \"Bake about 20-25 minutes until golden brown.\", \"Remove from oven.\", \"Spread (not dump) your favorite miranara sauce over each half-loaf of bread.\", \"Cover with splotches of mozzarella cheese slices.\", \\n\"Add fresh oregano and/or basil and bake until cheese begins to brown.\", \"This is a super snack for picky kids.\")'}"
      ]
     },
     "execution_count": 20,
     "metadata": {},
     "output_type": "execute_result"
    }
   ],
   "source": [
    "result[0].metadata"
   ]
  },
  {
   "cell_type": "code",
   "execution_count": 21,
   "metadata": {},
   "outputs": [
    {
     "name": "stdout",
     "output_type": "stream",
     "text": [
      "Recipe name: pizza\n"
     ]
    }
   ],
   "source": [
    "import re\n",
    "\n",
    "# Sample input\n",
    "text = \"jjdjdjj +dj jjd  name_recipe: pizza\"\n",
    "\n",
    "# Regex to capture the recipe name\n",
    "pattern = r'name_recipe:\\s*(\\S.*)'\n",
    "\n",
    "# Search for the pattern in the text\n",
    "match = re.search(pattern, text)\n",
    "\n",
    "if match:\n",
    "    recipe_name = match.group(1)\n",
    "    print(f\"Recipe name: {recipe_name}\")\n",
    "else:\n",
    "    print(\"No recipe found.\")\n"
   ]
  },
  {
   "cell_type": "code",
   "execution_count": null,
   "metadata": {},
   "outputs": [],
   "source": []
  }
 ],
 "metadata": {
  "colab": {
   "authorship_tag": "ABX9TyMBlS8ct7qUsZx9VfNo7hl6",
   "provenance": []
  },
  "kernelspec": {
   "display_name": "env",
   "language": "python",
   "name": "python3"
  },
  "language_info": {
   "codemirror_mode": {
    "name": "ipython",
    "version": 3
   },
   "file_extension": ".py",
   "mimetype": "text/x-python",
   "name": "python",
   "nbconvert_exporter": "python",
   "pygments_lexer": "ipython3",
   "version": "3.11.2"
  }
 },
 "nbformat": 4,
 "nbformat_minor": 0
}
